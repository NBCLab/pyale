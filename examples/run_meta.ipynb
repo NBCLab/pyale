{
 "cells": [
  {
   "cell_type": "code",
   "execution_count": 1,
   "metadata": {
    "collapsed": false
   },
   "outputs": [],
   "source": [
    "import pyale\n",
    "from os.path import dirname, join"
   ]
  },
  {
   "cell_type": "code",
   "execution_count": 2,
   "metadata": {
    "collapsed": false
   },
   "outputs": [
    {
     "name": "stdout",
     "output_type": "stream",
     "text": [
      "File /Users/tsalo/Desktop/meta_p.nii.gz saved.\n",
      "File /Users/tsalo/Desktop/meta_ale.nii.gz saved.\n",
      "File /Users/tsalo/Desktop/meta_z.nii.gz saved.\n",
      "File /Users/tsalo/Desktop/meta_thresh_001unc.nii.gz saved.\n",
      "Performing FWE correction.\n",
      "File /Users/tsalo/Desktop/meta_thresh_05cFWE_001unc.nii.gz saved.\n",
      "File /Users/tsalo/Desktop/meta_thresh_05vFWE.nii.gz saved.\n"
     ]
    }
   ],
   "source": [
    "test_file = join(dirname(pyale.__file__), 'tests/data/nat.txt')\n",
    "dset = pyale.import_sleuth(test_file)\n",
    "pyale.ale(dset, n_cores=4, voxel_thresh=0.001, clust_thresh=0.05,\n",
    "          corr='FWE', n_iters=100, verbose=True,\n",
    "          prefix='/Users/tsalo/Desktop/meta',\n",
    "          template_file='Grey10.nii')"
   ]
  }
 ],
 "metadata": {
  "anaconda-cloud": {},
  "kernelspec": {
   "display_name": "Python [conda root]",
   "language": "python",
   "name": "conda-root-py"
  },
  "language_info": {
   "codemirror_mode": {
    "name": "ipython",
    "version": 2
   },
   "file_extension": ".py",
   "mimetype": "text/x-python",
   "name": "python",
   "nbconvert_exporter": "python",
   "pygments_lexer": "ipython2",
   "version": "2.7.12"
  }
 },
 "nbformat": 4,
 "nbformat_minor": 0
}
